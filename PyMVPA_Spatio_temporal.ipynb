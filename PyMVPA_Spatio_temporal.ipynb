{
  "nbformat": 4,
  "nbformat_minor": 0,
  "metadata": {
    "colab": {
      "name": "PyMVPA-Spatio-temporal.ipynb",
      "provenance": [],
      "collapsed_sections": []
    },
    "kernelspec": {
      "name": "python2",
      "display_name": "Python 2"
    },
    "accelerator": "GPU"
  },
  "cells": [
    {
      "cell_type": "code",
      "metadata": {
        "id": "9UiVwBJ9t4uC",
        "colab_type": "code",
        "colab": {}
      },
      "source": [
        "!apt-get install python-mvpa2 --fix-missing"
      ],
      "execution_count": 0,
      "outputs": []
    },
    {
      "cell_type": "code",
      "metadata": {
        "id": "pM1K46Z02z0w",
        "colab_type": "code",
        "colab": {}
      },
      "source": [
        "from google.colab import drive\n",
        "drive.mount(\"/content/drive\")"
      ],
      "execution_count": 0,
      "outputs": []
    },
    {
      "cell_type": "code",
      "metadata": {
        "id": "N1Yi_Asj274f",
        "colab_type": "code",
        "colab": {
          "base_uri": "https://localhost:8080/",
          "height": 35
        },
        "outputId": "1f7735dc-9612-407d-c458-bdc9fe58b10c"
      },
      "source": [
        "%cd drive/My\\ Drive"
      ],
      "execution_count": 7,
      "outputs": [
        {
          "output_type": "stream",
          "text": [
            "/content/drive/My Drive\n"
          ],
          "name": "stdout"
        }
      ]
    },
    {
      "cell_type": "code",
      "metadata": {
        "id": "FXOBm0Wf2XNh",
        "colab_type": "code",
        "colab": {}
      },
      "source": [
        "!wget 'http://data.pymvpa.org/datasets/tutorial_data/tutorial_data-0.4.tar.gz'"
      ],
      "execution_count": 0,
      "outputs": []
    },
    {
      "cell_type": "code",
      "metadata": {
        "id": "EFmcrqer4JbP",
        "colab_type": "code",
        "colab": {}
      },
      "source": [
        "!tar -xzf 'tutorial_data-0.4.tar.gz'"
      ],
      "execution_count": 0,
      "outputs": []
    },
    {
      "cell_type": "code",
      "metadata": {
        "id": "pKjFYA4VMSic",
        "colab_type": "code",
        "colab": {}
      },
      "source": [
        "#minor modification in the function to make it work with the path in google colab\n",
        "\n",
        "def load_tut_data(path=None, roi='brain', add_fa=None, flavor=None):\n",
        "    \"\"\"Loads the block-design demo dataset from PyMVPA dataset DB.\n",
        "    Parameters\n",
        "    ----------\n",
        "    path : str, optional\n",
        "      Path to the directory with the extracted content of the tutorial\n",
        "      data package. This is only necessary for accessing the full resolution\n",
        "      data. The ``1slice``, and ``25mm`` flavors are shipped with PyMVPA\n",
        "      itself, and the path argument is ignored for them. This function also\n",
        "      honors the MVPA_LOCATION_TUTORIAL_DATA environment variable, and the\n",
        "      respective configuration setting.\n",
        "    roi : str or int or tuple or None, optional\n",
        "      Region Of Interest to be used for masking the dataset. If a string is\n",
        "      given a corresponding mask image from the demo dataset will be used\n",
        "      (mask_<str>.nii.gz). If an int value is given, the corresponding ROI\n",
        "      is determined from the atlas image (mask_hoc.nii.gz). If a tuple is\n",
        "      provided it may contain int values that a processed as explained\n",
        "      before, but the union of a ROIs is taken to produce the final mask.\n",
        "      If None, no masking is performed.\n",
        "    add_fa : dict, optional\n",
        "      Passed on to the dataset creator function (see fmri_dataset() for\n",
        "      more information).\n",
        "    flavor: str, optional\n",
        "      Resolution flavor of the data to load. By default, the data is loaded in\n",
        "      its original resolution. The PyMVPA source distribution contains a '25mm'\n",
        "      flavor that has been downsampled to a very coarse resolution and can be\n",
        "      used for quick test execution. Likewise a ``1slice`` flavor is available\n",
        "      that contents a full-resultion single-slice subset of the dataset.\n",
        "    \"\"\"\n",
        "    \n",
        "    path = '/content/drive/My Drive/tutorial_data/'\n",
        "    if path is None:\n",
        "        if flavor in ('1slice', '25mm'):\n",
        "            # we know that this part is there\n",
        "            path = pathjoin(pymvpa_dataroot)\n",
        "        else:\n",
        "            # check config for info, pretend it is in the working dir otherwise\n",
        "            path = mvpa2.cfg.get('location',\n",
        "                                 'tutorial data',\n",
        "                                 default=os.path.curdir)\n",
        "    # we need the haxby2001 portion of the tutorial data\n",
        "    path = pathjoin(path, 'data')\n",
        "    \n",
        "    import nibabel as nb\n",
        "    from mvpa2.datasets.sources.openfmri import OpenFMRIDataset\n",
        "    model = subj = 1\n",
        "    dhandle = OpenFMRIDataset(path)\n",
        "    if flavor is None:\n",
        "        maskpath = pathjoin(path, 'sub001', 'masks', 'orig')\n",
        "    else:\n",
        "        maskpath = pathjoin(path, 'sub001', 'masks', flavor)\n",
        "    if roi is None:\n",
        "        mask = None\n",
        "    elif isinstance(roi, str):\n",
        "        mask = pathjoin(maskpath, roi + '.nii.gz')\n",
        "    elif isinstance(roi, int):\n",
        "        nimg = nb.load(pathjoin(maskpath, 'hoc.nii.gz'))\n",
        "        tmpmask = nimg.get_data() == roi\n",
        "        mask = nb.Nifti1Image(tmpmask.astype(int), nimg.affine, nimg.header)\n",
        "    elif isinstance(roi, (tuple, list)):\n",
        "        nimg = nb.load(pathjoin(maskpath, 'hoc.nii.gz'))\n",
        "        tmpmask = np.zeros(nimg.shape, dtype='bool')\n",
        "        for r in roi:\n",
        "            tmpmask = np.logical_or(tmpmask, nimg.get_data() == r)\n",
        "        mask = nb.Nifti1Image(tmpmask.astype(int), nimg.affine, nimg.header)\n",
        "    elif isinstance(roi, nb.Nifti1Image):\n",
        "        mask = roi\n",
        "    else:\n",
        "        raise ValueError(\"Got something as mask that I cannot handle.\")\n",
        "    ds = dhandle.get_model_bold_dataset(model, subj, flavor=flavor,\n",
        "                                        mask=mask, add_fa=add_fa,\n",
        "                                        noinfolabel='rest')\n",
        "    # fixup time_coords to make the impression of a continuous time series\n",
        "    # this is only necessary until we have changed the tutorial to\n",
        "    # show/encourage run-wise processing\n",
        "    ds.sa['time_coords'] = np.linspace(0, (len(ds) * 2.5), len(ds) + 1)[:-1]\n",
        "    return ds"
      ],
      "execution_count": 0,
      "outputs": []
    },
    {
      "cell_type": "code",
      "metadata": {
        "id": "iuXni0F-HYL5",
        "colab_type": "code",
        "colab": {}
      },
      "source": [
        "from mvpa2.suite import *\n",
        "ds = load_tut_data(roi=(36,38,39,40))"
      ],
      "execution_count": 0,
      "outputs": []
    },
    {
      "cell_type": "code",
      "metadata": {
        "id": "Qgbbd6GJIwB1",
        "colab_type": "code",
        "outputId": "f510caf6-ab6a-4ae2-c5e0-40dd2bf0d0a7",
        "colab": {
          "base_uri": "https://localhost:8080/",
          "height": 91
        }
      },
      "source": [
        "# detrend on full timeseries\n",
        "poly_detrend(ds, polyord=1, chunks_attr='chunks')"
      ],
      "execution_count": 19,
      "outputs": [
        {
          "output_type": "stream",
          "text": [
            "/usr/lib/python2.7/dist-packages/mvpa2/mappers/detrend.py:325: FutureWarning: `rcond` parameter will change to the default of machine precision times ``max(M, N)`` where M and N are the input matrix dimensions.\n",
            "To use the future default and silence this warning we advise to pass `rcond=None`, to keep using the old, explicitly pass `rcond=-1`.\n",
            "  fit = np.linalg.lstsq(regs, ds.samples)\n"
          ],
          "name": "stderr"
        }
      ]
    },
    {
      "cell_type": "code",
      "metadata": {
        "id": "bE8e68rVK06q",
        "colab_type": "code",
        "colab": {}
      },
      "source": [
        "orig_ds = ds.copy()"
      ],
      "execution_count": 0,
      "outputs": []
    },
    {
      "cell_type": "code",
      "metadata": {
        "id": "KNY3xcdzQqjR",
        "colab_type": "code",
        "colab": {}
      },
      "source": [
        "zscore(ds, chunks_attr='chunks', param_est=('targets', 'rest'))"
      ],
      "execution_count": 0,
      "outputs": []
    },
    {
      "cell_type": "code",
      "metadata": {
        "id": "NuD8JmC1QsMz",
        "colab_type": "code",
        "colab": {}
      },
      "source": [
        "events = find_events(targets=ds.sa.targets, chunks=ds.sa.chunks)"
      ],
      "execution_count": 0,
      "outputs": []
    },
    {
      "cell_type": "code",
      "metadata": {
        "id": "1iUbyoMEQt4-",
        "colab_type": "code",
        "colab": {}
      },
      "source": [
        "# filter out events\n",
        "events = [ev for ev in events if ev['targets'] in ['house', 'face']]\n",
        "\n",
        "# modify event start and set uniform duration\n",
        "for ev in events:\n",
        "    ev['onset'] -= 2\n",
        "    ev['duration'] = 13"
      ],
      "execution_count": 0,
      "outputs": []
    },
    {
      "cell_type": "code",
      "metadata": {
        "id": "vqA6772hQwmJ",
        "colab_type": "code",
        "outputId": "0ee5d4c8-855a-447c-9a87-2bbec79aecdb",
        "colab": {
          "base_uri": "https://localhost:8080/",
          "height": 73
        }
      },
      "source": [
        "evds = eventrelated_dataset(ds, events=events)"
      ],
      "execution_count": 24,
      "outputs": [
        {
          "output_type": "stream",
          "text": [
            "/usr/lib/python2.7/dist-packages/mvpa2/mappers/boxcar.py:55: FutureWarning: Conversion of the second argument of issubdtype from `'i'` to `np.signedinteger` is deprecated. In future, it will be treated as `np.int32 == np.dtype('i').type`.\n",
            "  if np.issubdtype(startpoints.dtype, 'i'):\n"
          ],
          "name": "stderr"
        }
      ]
    },
    {
      "cell_type": "code",
      "metadata": {
        "id": "0yE47VqpQykL",
        "colab_type": "code",
        "outputId": "26c3ccbb-1ee4-49bf-f99f-d9d105b310f3",
        "colab": {
          "base_uri": "https://localhost:8080/",
          "height": 109
        }
      },
      "source": [
        "clf = LinearCSVMC()\n",
        "sclf = SplitClassifier(clf, enable_ca=['stats'])\n",
        "\n",
        "# Compute sensitivity, which internally trains the classifier\n",
        "analyzer = sclf.get_sensitivity_analyzer()\n",
        "sensitivities = analyzer(evds)"
      ],
      "execution_count": 25,
      "outputs": [
        {
          "output_type": "stream",
          "text": [
            "/usr/lib/python2.7/dist-packages/mvpa2/misc/attrmap.py:153: FutureWarning: Conversion of the second argument of issubdtype from `str` to `str` is deprecated. In future, it will be treated as `np.string_ == np.dtype(str).type`.\n",
            "  if not np.issubdtype(attr.dtype, str) and not self.mapnumeric:\n",
            "/usr/lib/python2.7/dist-packages/mvpa2/clfs/libsvmc/svm.py:215: FutureWarning: Conversion of the second argument of issubdtype from `'c'` to `str` is deprecated. In future, it will be treated as `np.string_ == np.dtype('c').type`.\n",
            "  if ( np.issubdtype(self.ca.trained_targets.dtype, 'c') or\n"
          ],
          "name": "stderr"
        }
      ]
    },
    {
      "cell_type": "code",
      "metadata": {
        "id": "XIjmlfaLQ1Yt",
        "colab_type": "code",
        "outputId": "c8fdb23f-1b81-4cdf-d52a-9c2e423d2463",
        "colab": {
          "base_uri": "https://localhost:8080/",
          "height": 306
        }
      },
      "source": [
        "print sclf.ca.stats\n"
      ],
      "execution_count": 26,
      "outputs": [
        {
          "output_type": "stream",
          "text": [
            "----------.\n",
            "predictions\\targets  face   house\n",
            "            `------  -----  ----- P' N' FP FN PPV NPV TPR SPC FDR MCC F1 AUC\n",
            "        face          12      0   12 12  0  0  1   1   1   1   0   1   1  1\n",
            "       house           0     12   12 12  0  0  1   1   1   1   0   1   1  1\n",
            "Per target:          -----  -----\n",
            "         P            12     12\n",
            "         N            12     12\n",
            "         TP           12     12\n",
            "         TN           12     12\n",
            "Summary \\ Means:     -----  ----- 12 12  0  0  1   1   1   1   0   1   1  1\n",
            "       CHI^2          24   p=2.5e-05\n",
            "        ACC            1\n",
            "        ACC%          100\n",
            "     # of sets        12    ACC(i) = 1+0*i p=1 r=0 r^2=0\n",
            "\n"
          ],
          "name": "stdout"
        }
      ]
    },
    {
      "cell_type": "code",
      "metadata": {
        "id": "gUj-WXqDQ3tF",
        "colab_type": "code",
        "colab": {}
      },
      "source": [
        "example_voxels = [(28,25,25), (28,23,25)]"
      ],
      "execution_count": 0,
      "outputs": []
    },
    {
      "cell_type": "code",
      "metadata": {
        "id": "LzGF_WtjQ71g",
        "colab_type": "code",
        "outputId": "cd9563c8-559b-40ca-8808-6d6a8c107889",
        "colab": {
          "base_uri": "https://localhost:8080/",
          "height": 141
        }
      },
      "source": [
        "vx_lty = ['-', '--']\n",
        "t_col = ['b', 'r']\n",
        "\n",
        "pl.subplot(311)\n",
        "for i, v in enumerate(example_voxels):\n",
        "    slicer = np.array([tuple(idx) == v for idx in ds.fa.voxel_indices])\n",
        "    evds_detrend = eventrelated_dataset(orig_ds[:, slicer], events=events)\n",
        "    for j, t in enumerate(evds.uniquetargets):\n",
        "        pl.plot(np.mean(evds_detrend[evds_detrend.sa.targets == t], axis=0),\n",
        "               t_col[j] + vx_lty[i],\n",
        "               label='Voxel %i: %s' % (i, t))\n",
        "pl.ylabel('Detrended signal')\n",
        "pl.axhline(linestyle='--', color='0.6')\n",
        "pl.legend()"
      ],
      "execution_count": 28,
      "outputs": [
        {
          "output_type": "execute_result",
          "data": {
            "text/plain": [
              "<matplotlib.legend.Legend at 0x7f421195eed0>"
            ]
          },
          "metadata": {
            "tags": []
          },
          "execution_count": 28
        },
        {
          "output_type": "display_data",
          "data": {
            "image/png": "[encoded data removed]",
            "text/plain": [
              "<Figure size 432x288 with 1 Axes>"
            ]
          },
          "metadata": {
            "tags": []
          }
        }
      ]
    },
    {
      "cell_type": "code",
      "metadata": {
        "id": "hVztRxXsRD7w",
        "colab_type": "code",
        "colab": {
          "base_uri": "https://localhost:8080/",
          "height": 148
        },
        "outputId": "48aef4c0-327e-4a4f-cbc4-731af0d2b9f3"
      },
      "source": [
        "pl.subplot(313)\n",
        "smaps = evds.a.mapper[-1].reverse(sensitivities)\n",
        "\n",
        "for i, v in enumerate(example_voxels):\n",
        "    slicer = np.array([tuple(idx) == v for idx in ds.fa.voxel_indices])\n",
        "    smap = smaps.samples[:,:,slicer].squeeze()\n",
        "    plot_err_line(smap, fmt='ko', linestyle=vx_lty[i])\n",
        "pl.xlim((0,12))\n",
        "pl.ylabel('Sensitivity')\n",
        "pl.axhline(linestyle='--', color='0.6')\n",
        "pl.xlabel('Peristimulus volumes')\n",
        "\n"
      ],
      "execution_count": 29,
      "outputs": [
        {
          "output_type": "execute_result",
          "data": {
            "text/plain": [
              "Text(0.5,0,'Peristimulus volumes')"
            ]
          },
          "metadata": {
            "tags": []
          },
          "execution_count": 29
        },
        {
          "output_type": "display_data",
          "data": {
            "image/png": "[encoded data removed]",
            "text/plain": [
              "<Figure size 432x288 with 1 Axes>"
            ]
          },
          "metadata": {
            "tags": []
          }
        }
      ]
    },
    {
      "cell_type": "code",
      "metadata": {
        "id": "yG_BsI135yY8",
        "colab_type": "code",
        "colab": {}
      },
      "source": [
        ""
      ],
      "execution_count": 0,
      "outputs": []
    }
  ]
}